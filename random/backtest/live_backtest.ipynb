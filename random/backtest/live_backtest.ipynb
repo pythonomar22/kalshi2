{
 "cells": [
  {
   "cell_type": "code",
   "execution_count": 1,
   "metadata": {},
   "outputs": [
    {
     "name": "stderr",
     "output_type": "stream",
     "text": [
      "2025-05-23 02:06:41,328 - INFO - live_backtest_config - Live market outcomes expected from: /Users/omarabul-hassan/Desktop/projects/kalshi/random/backtest/live_sessions_market_outcomes.csv\n",
      "2025-05-23 02:06:41,328 - INFO - live_backtest_config - Loaded 18 session-to-Binance file mappings.\n",
      "2025-05-23 02:06:41,329 - INFO - live_backtest_config - Using NEW model from directory: /Users/omarabul-hassan/Desktop/projects/kalshi/notebooks/trained_models/logreg_per_minute_no_vol_oi\n",
      "2025-05-23 02:06:41,329 - INFO - live_backtest_config - Model path: /Users/omarabul-hassan/Desktop/projects/kalshi/notebooks/trained_models/logreg_per_minute_no_vol_oi/logreg_per_minute_no_vol_oi_model.joblib\n",
      "2025-05-23 02:06:41,329 - INFO - live_backtest_config - Scaler path: /Users/omarabul-hassan/Desktop/projects/kalshi/notebooks/trained_models/logreg_per_minute_no_vol_oi/logreg_per_minute_no_vol_oi_scaler.joblib\n",
      "2025-05-23 02:06:41,329 - INFO - live_backtest_config - Feature names path: /Users/omarabul-hassan/Desktop/projects/kalshi/notebooks/trained_models/logreg_per_minute_no_vol_oi/logreg_per_minute_no_vol_oi_feature_names.json\n",
      "2025-05-23 02:06:41,329 - INFO - live_backtest_config - Trading Thresholds: P(Yes) > 0.6 for BUY_YES; P(No) > 0.6 for BUY_NO\n",
      "2025-05-23 02:06:41,329 - INFO - live_backtest_config - Live feature files will be searched using pattern: /Users/omarabul-hassan/Desktop/projects/kalshi/random/backtest/features_live/kalshi_live_decision_features_*.csv\n",
      "2025-05-23 02:06:41,330 - INFO - live_backtest_config - ONE_BET_PER_KALSHI_MARKET set to: False\n"
     ]
    },
    {
     "name": "stdout",
     "output_type": "stream",
     "text": [
      "2025-05-23 02:06:41,351 - INFO - live_backtest_notebook - Live Backtesting Notebook Setup Complete.\n"
     ]
    },
    {
     "name": "stderr",
     "output_type": "stream",
     "text": [
      "2025-05-23 02:06:41,351 - INFO - live_backtest_notebook - Live Backtesting Notebook Setup Complete.\n"
     ]
    },
    {
     "name": "stdout",
     "output_type": "stream",
     "text": [
      "2025-05-23 02:06:41,352 - INFO - live_backtest_notebook - Live Kalshi Data Dir: /Users/omarabul-hassan/Desktop/projects/kalshi/random/market_data_logs\n"
     ]
    },
    {
     "name": "stderr",
     "output_type": "stream",
     "text": [
      "2025-05-23 02:06:41,352 - INFO - live_backtest_notebook - Live Kalshi Data Dir: /Users/omarabul-hassan/Desktop/projects/kalshi/random/market_data_logs\n"
     ]
    },
    {
     "name": "stdout",
     "output_type": "stream",
     "text": [
      "2025-05-23 02:06:41,352 - INFO - live_backtest_notebook - Live Binance Data Dir: /Users/omarabul-hassan/Desktop/projects/kalshi/random/binance_market_data_logs\n"
     ]
    },
    {
     "name": "stderr",
     "output_type": "stream",
     "text": [
      "2025-05-23 02:06:41,352 - INFO - live_backtest_notebook - Live Binance Data Dir: /Users/omarabul-hassan/Desktop/projects/kalshi/random/binance_market_data_logs\n"
     ]
    },
    {
     "name": "stdout",
     "output_type": "stream",
     "text": [
      "2025-05-23 02:06:41,352 - INFO - live_backtest_notebook - Live Features Output Dir: /Users/omarabul-hassan/Desktop/projects/kalshi/random/backtest/features_live\n"
     ]
    },
    {
     "name": "stderr",
     "output_type": "stream",
     "text": [
      "2025-05-23 02:06:41,352 - INFO - live_backtest_notebook - Live Features Output Dir: /Users/omarabul-hassan/Desktop/projects/kalshi/random/backtest/features_live\n"
     ]
    },
    {
     "name": "stdout",
     "output_type": "stream",
     "text": [
      "2025-05-23 02:06:41,353 - INFO - live_backtest_notebook - Trade Logs Dir: /Users/omarabul-hassan/Desktop/projects/kalshi/random/backtest/logs\n"
     ]
    },
    {
     "name": "stderr",
     "output_type": "stream",
     "text": [
      "2025-05-23 02:06:41,353 - INFO - live_backtest_notebook - Trade Logs Dir: /Users/omarabul-hassan/Desktop/projects/kalshi/random/backtest/logs\n"
     ]
    },
    {
     "name": "stdout",
     "output_type": "stream",
     "text": [
      "2025-05-23 02:06:41,353 - INFO - live_backtest_notebook - Using Model from: /Users/omarabul-hassan/Desktop/projects/kalshi/notebooks/trained_models/logreg_per_minute_no_vol_oi\n"
     ]
    },
    {
     "name": "stderr",
     "output_type": "stream",
     "text": [
      "2025-05-23 02:06:41,353 - INFO - live_backtest_notebook - Using Model from: /Users/omarabul-hassan/Desktop/projects/kalshi/notebooks/trained_models/logreg_per_minute_no_vol_oi\n"
     ]
    }
   ],
   "source": [
    "# Cell 1: Imports and Setup for Live Backtest\n",
    "\n",
    "import sys\n",
    "from pathlib import Path\n",
    "import os\n",
    "import subprocess # To run the feature engineering script\n",
    "\n",
    "# --- Add 'random/backtest' to sys.path for imports ---\n",
    "# Assuming this notebook is in random/backtest/\n",
    "current_notebook_dir = Path.cwd()\n",
    "if str(current_notebook_dir) not in sys.path:\n",
    "    sys.path.insert(0, str(current_notebook_dir))\n",
    "\n",
    "# --- Also add project root if needed for other modules (e.g. if .env is there for fetch.py) ---\n",
    "project_root = current_notebook_dir.parent.parent # Kalshi/ \n",
    "if str(project_root) not in sys.path:\n",
    "    sys.path.insert(0, str(project_root))\n",
    "\n",
    "import pandas as pd\n",
    "import logging\n",
    "import matplotlib.pyplot as plt\n",
    "\n",
    "# Import from our live backtest suite\n",
    "import live_backtest_config as live_config\n",
    "import live_backtest_utils as live_utils\n",
    "from live_backtest_engine import run_live_backtest\n",
    "\n",
    "# --- Logging Setup for the Notebook ---\n",
    "notebook_logger = logging.getLogger(\"live_backtest_notebook\")\n",
    "if not notebook_logger.handlers:\n",
    "    notebook_logger.setLevel(logging.INFO)\n",
    "    formatter = logging.Formatter('%(asctime)s - %(levelname)s - %(name)s - %(message)s')\n",
    "    ch = logging.StreamHandler(sys.stdout) # Log to notebook output\n",
    "    ch.setFormatter(formatter)\n",
    "    notebook_logger.addHandler(ch)\n",
    "else:\n",
    "    # Clear existing handlers if re-running cell to avoid duplicate logs\n",
    "    for handler in notebook_logger.handlers[:]:\n",
    "        notebook_logger.removeHandler(handler)\n",
    "    notebook_logger.setLevel(logging.INFO)\n",
    "    formatter = logging.Formatter('%(asctime)s - %(levelname)s - %(name)s - %(message)s')\n",
    "    ch = logging.StreamHandler(sys.stdout)\n",
    "    ch.setFormatter(formatter)\n",
    "    notebook_logger.addHandler(ch)\n",
    "\n",
    "notebook_logger.info(f\"Live Backtesting Notebook Setup Complete.\")\n",
    "notebook_logger.info(f\"Live Kalshi Data Dir: {live_config.LIVE_KALSHI_DATA_DIR}\")\n",
    "notebook_logger.info(f\"Live Binance Data Dir: {live_config.LIVE_BINANCE_DATA_DIR}\")\n",
    "notebook_logger.info(f\"Live Features Output Dir: {live_config.LIVE_FEATURES_DIR}\")\n",
    "notebook_logger.info(f\"Trade Logs Dir: {live_config.LOG_DIR}\")\n",
    "notebook_logger.info(f\"Using Model from: {live_config.MODEL_PATH.parent}\")"
   ]
  },
  {
   "cell_type": "code",
   "execution_count": null,
   "metadata": {},
   "outputs": [],
   "source": [
    "# Cell 2: Run Live Feature Engineering Script\n",
    "# This script (live_feature_engineering.py) processes your live data files\n",
    "# and creates a consolidated feature CSV.\n",
    "\n",
    "notebook_logger.info(\"Starting live feature engineering script...\")\n",
    "feature_engineering_script_path = Path.cwd() / \"live_feature_engineering.py\"\n",
    "\n",
    "if not feature_engineering_script_path.exists():\n",
    "    notebook_logger.critical(f\"CRITICAL: live_feature_engineering.py not found at {feature_engineering_script_path}\")\n",
    "    raise FileNotFoundError(f\"live_feature_engineering.py not found.\")\n",
    "\n",
    "try:\n",
    "    # Ensure Python executable is correctly identified (e.g., from current environment)\n",
    "    python_executable = sys.executable \n",
    "    result = subprocess.run(\n",
    "        [python_executable, str(feature_engineering_script_path)], \n",
    "        capture_output=True, text=True, check=True, timeout=1800 # 30 min timeout, adjust as needed\n",
    "    )\n",
    "    notebook_logger.info(\"live_feature_engineering.py script completed successfully.\")\n",
    "    notebook_logger.info(\"Script STDOUT:\")\n",
    "    print(result.stdout)\n",
    "    if result.stderr:\n",
    "        notebook_logger.warning(\"Script STDERR:\")\n",
    "        print(result.stderr)\n",
    "except subprocess.CalledProcessError as e:\n",
    "    notebook_logger.error(f\"live_feature_engineering.py script failed with exit code {e.returncode}.\")\n",
    "    notebook_logger.error(\"Script STDOUT:\")\n",
    "    print(e.stdout)\n",
    "    notebook_logger.error(\"Script STDERR:\")\n",
    "    print(e.stderr)\n",
    "    raise RuntimeError(\"Feature engineering script failed.\") from e\n",
    "except subprocess.TimeoutExpired as e:\n",
    "    notebook_logger.error(f\"live_feature_engineering.py script timed out.\")\n",
    "    notebook_logger.error(\"Script STDOUT (if any):\")\n",
    "    print(e.stdout.decode() if e.stdout else 'N/A')\n",
    "    notebook_logger.error(\"Script STDERR (if any):\")\n",
    "    print(e.stderr.decode() if e.stderr else 'N/A')\n",
    "    raise RuntimeError(\"Feature engineering script timed out.\") from e\n",
    "except Exception as e:\n",
    "    notebook_logger.error(f\"An unexpected error occurred while trying to run live_feature_engineering.py: {e}\", exc_info=True)\n",
    "    raise"
   ]
  },
  {
   "cell_type": "code",
   "execution_count": 2,
   "metadata": {},
   "outputs": [
    {
     "name": "stdout",
     "output_type": "stream",
     "text": [
      "2025-05-23 02:07:15,031 - INFO - live_backtest_notebook - Loading pre-trained model, scaler, and feature names...\n"
     ]
    },
    {
     "name": "stderr",
     "output_type": "stream",
     "text": [
      "2025-05-23 02:07:15,031 - INFO - live_backtest_notebook - Loading pre-trained model, scaler, and feature names...\n",
      "2025-05-23 02:07:15,634 - INFO - root - Successfully loaded model from /Users/omarabul-hassan/Desktop/projects/kalshi/notebooks/trained_models/logreg_per_minute_no_vol_oi/logreg_per_minute_no_vol_oi_model.joblib, scaler, and 19 feature names.\n"
     ]
    },
    {
     "name": "stdout",
     "output_type": "stream",
     "text": [
      "2025-05-23 02:07:15,634 - INFO - live_backtest_notebook - Model components loaded successfully.\n"
     ]
    },
    {
     "name": "stderr",
     "output_type": "stream",
     "text": [
      "2025-05-23 02:07:15,634 - INFO - live_backtest_notebook - Model components loaded successfully.\n"
     ]
    },
    {
     "name": "stdout",
     "output_type": "stream",
     "text": [
      "2025-05-23 02:07:15,635 - INFO - live_backtest_notebook - Loading features engineered from LIVE data...\n"
     ]
    },
    {
     "name": "stderr",
     "output_type": "stream",
     "text": [
      "2025-05-23 02:07:15,635 - INFO - live_backtest_notebook - Loading features engineered from LIVE data...\n",
      "2025-05-23 02:07:15,635 - INFO - root - Loading LIVE features for backtest from: /Users/omarabul-hassan/Desktop/projects/kalshi/random/backtest/features_live/kalshi_live_decision_features_SESSION_25MAY2015_20250523_020710.csv\n",
      "2025-05-23 02:07:15,699 - INFO - root - Loaded 38716 rows from live-engineered feature data.\n"
     ]
    },
    {
     "name": "stdout",
     "output_type": "stream",
     "text": [
      "2025-05-23 02:07:15,699 - INFO - live_backtest_notebook - Live features data loaded successfully with 38716 decision points.\n"
     ]
    },
    {
     "name": "stderr",
     "output_type": "stream",
     "text": [
      "2025-05-23 02:07:15,699 - INFO - live_backtest_notebook - Live features data loaded successfully with 38716 decision points.\n"
     ]
    },
    {
     "name": "stdout",
     "output_type": "stream",
     "text": [
      "Head of loaded live features DataFrame:\n"
     ]
    },
    {
     "data": {
      "text/html": [
       "<div>\n",
       "<style scoped>\n",
       "    .dataframe tbody tr th:only-of-type {\n",
       "        vertical-align: middle;\n",
       "    }\n",
       "\n",
       "    .dataframe tbody tr th {\n",
       "        vertical-align: top;\n",
       "    }\n",
       "\n",
       "    .dataframe thead th {\n",
       "        text-align: right;\n",
       "    }\n",
       "</style>\n",
       "<table border=\"1\" class=\"dataframe\">\n",
       "  <thead>\n",
       "    <tr style=\"text-align: right;\">\n",
       "      <th></th>\n",
       "      <th>market_ticker</th>\n",
       "      <th>decision_timestamp_s</th>\n",
       "      <th>resolution_time_ts</th>\n",
       "      <th>strike_price</th>\n",
       "      <th>target</th>\n",
       "      <th>time_to_resolution_minutes</th>\n",
       "      <th>current_btc_price</th>\n",
       "      <th>current_dist_strike_abs</th>\n",
       "      <th>current_dist_strike_pct</th>\n",
       "      <th>btc_price_change_pct_1m</th>\n",
       "      <th>...</th>\n",
       "      <th>btc_volatility_5m</th>\n",
       "      <th>btc_volatility_15m</th>\n",
       "      <th>btc_volatility_30m</th>\n",
       "      <th>current_kalshi_yes_bid</th>\n",
       "      <th>current_kalshi_yes_ask</th>\n",
       "      <th>current_kalshi_mid_price</th>\n",
       "      <th>current_kalshi_spread_abs</th>\n",
       "      <th>current_kalshi_spread_pct</th>\n",
       "      <th>current_kalshi_volume</th>\n",
       "      <th>current_kalshi_oi</th>\n",
       "    </tr>\n",
       "  </thead>\n",
       "  <tbody>\n",
       "    <tr>\n",
       "      <th>0</th>\n",
       "      <td>KXBTCD-25MAY2015-T106249.99</td>\n",
       "      <td>1747764064</td>\n",
       "      <td>1747767600</td>\n",
       "      <td>106249.99</td>\n",
       "      <td>0</td>\n",
       "      <td>58.93</td>\n",
       "      <td>NaN</td>\n",
       "      <td>NaN</td>\n",
       "      <td>NaN</td>\n",
       "      <td>NaN</td>\n",
       "      <td>...</td>\n",
       "      <td>NaN</td>\n",
       "      <td>NaN</td>\n",
       "      <td>NaN</td>\n",
       "      <td>0.44</td>\n",
       "      <td>0.5</td>\n",
       "      <td>0.47</td>\n",
       "      <td>0.06</td>\n",
       "      <td>0.12766</td>\n",
       "      <td>NaN</td>\n",
       "      <td>NaN</td>\n",
       "    </tr>\n",
       "    <tr>\n",
       "      <th>1</th>\n",
       "      <td>KXBTCD-25MAY2015-T106249.99</td>\n",
       "      <td>1747764064</td>\n",
       "      <td>1747767600</td>\n",
       "      <td>106249.99</td>\n",
       "      <td>0</td>\n",
       "      <td>58.93</td>\n",
       "      <td>NaN</td>\n",
       "      <td>NaN</td>\n",
       "      <td>NaN</td>\n",
       "      <td>NaN</td>\n",
       "      <td>...</td>\n",
       "      <td>NaN</td>\n",
       "      <td>NaN</td>\n",
       "      <td>NaN</td>\n",
       "      <td>0.44</td>\n",
       "      <td>0.5</td>\n",
       "      <td>0.47</td>\n",
       "      <td>0.06</td>\n",
       "      <td>0.12766</td>\n",
       "      <td>NaN</td>\n",
       "      <td>NaN</td>\n",
       "    </tr>\n",
       "    <tr>\n",
       "      <th>2</th>\n",
       "      <td>KXBTCD-25MAY2015-T106249.99</td>\n",
       "      <td>1747764064</td>\n",
       "      <td>1747767600</td>\n",
       "      <td>106249.99</td>\n",
       "      <td>0</td>\n",
       "      <td>58.93</td>\n",
       "      <td>NaN</td>\n",
       "      <td>NaN</td>\n",
       "      <td>NaN</td>\n",
       "      <td>NaN</td>\n",
       "      <td>...</td>\n",
       "      <td>NaN</td>\n",
       "      <td>NaN</td>\n",
       "      <td>NaN</td>\n",
       "      <td>0.44</td>\n",
       "      <td>0.5</td>\n",
       "      <td>0.47</td>\n",
       "      <td>0.06</td>\n",
       "      <td>0.12766</td>\n",
       "      <td>NaN</td>\n",
       "      <td>NaN</td>\n",
       "    </tr>\n",
       "    <tr>\n",
       "      <th>3</th>\n",
       "      <td>KXBTCD-25MAY2015-T106249.99</td>\n",
       "      <td>1747764064</td>\n",
       "      <td>1747767600</td>\n",
       "      <td>106249.99</td>\n",
       "      <td>0</td>\n",
       "      <td>58.93</td>\n",
       "      <td>NaN</td>\n",
       "      <td>NaN</td>\n",
       "      <td>NaN</td>\n",
       "      <td>NaN</td>\n",
       "      <td>...</td>\n",
       "      <td>NaN</td>\n",
       "      <td>NaN</td>\n",
       "      <td>NaN</td>\n",
       "      <td>0.44</td>\n",
       "      <td>0.5</td>\n",
       "      <td>0.47</td>\n",
       "      <td>0.06</td>\n",
       "      <td>0.12766</td>\n",
       "      <td>NaN</td>\n",
       "      <td>NaN</td>\n",
       "    </tr>\n",
       "    <tr>\n",
       "      <th>4</th>\n",
       "      <td>KXBTCD-25MAY2015-T106249.99</td>\n",
       "      <td>1747764064</td>\n",
       "      <td>1747767600</td>\n",
       "      <td>106249.99</td>\n",
       "      <td>0</td>\n",
       "      <td>58.93</td>\n",
       "      <td>NaN</td>\n",
       "      <td>NaN</td>\n",
       "      <td>NaN</td>\n",
       "      <td>NaN</td>\n",
       "      <td>...</td>\n",
       "      <td>NaN</td>\n",
       "      <td>NaN</td>\n",
       "      <td>NaN</td>\n",
       "      <td>0.44</td>\n",
       "      <td>0.5</td>\n",
       "      <td>0.47</td>\n",
       "      <td>0.06</td>\n",
       "      <td>0.12766</td>\n",
       "      <td>NaN</td>\n",
       "      <td>NaN</td>\n",
       "    </tr>\n",
       "  </tbody>\n",
       "</table>\n",
       "<p>5 rows × 25 columns</p>\n",
       "</div>"
      ],
      "text/plain": [
       "                 market_ticker  decision_timestamp_s  resolution_time_ts  \\\n",
       "0  KXBTCD-25MAY2015-T106249.99            1747764064          1747767600   \n",
       "1  KXBTCD-25MAY2015-T106249.99            1747764064          1747767600   \n",
       "2  KXBTCD-25MAY2015-T106249.99            1747764064          1747767600   \n",
       "3  KXBTCD-25MAY2015-T106249.99            1747764064          1747767600   \n",
       "4  KXBTCD-25MAY2015-T106249.99            1747764064          1747767600   \n",
       "\n",
       "   strike_price  target  time_to_resolution_minutes  current_btc_price  \\\n",
       "0     106249.99       0                       58.93                NaN   \n",
       "1     106249.99       0                       58.93                NaN   \n",
       "2     106249.99       0                       58.93                NaN   \n",
       "3     106249.99       0                       58.93                NaN   \n",
       "4     106249.99       0                       58.93                NaN   \n",
       "\n",
       "   current_dist_strike_abs  current_dist_strike_pct  btc_price_change_pct_1m  \\\n",
       "0                      NaN                      NaN                      NaN   \n",
       "1                      NaN                      NaN                      NaN   \n",
       "2                      NaN                      NaN                      NaN   \n",
       "3                      NaN                      NaN                      NaN   \n",
       "4                      NaN                      NaN                      NaN   \n",
       "\n",
       "   ...  btc_volatility_5m  btc_volatility_15m  btc_volatility_30m  \\\n",
       "0  ...                NaN                 NaN                 NaN   \n",
       "1  ...                NaN                 NaN                 NaN   \n",
       "2  ...                NaN                 NaN                 NaN   \n",
       "3  ...                NaN                 NaN                 NaN   \n",
       "4  ...                NaN                 NaN                 NaN   \n",
       "\n",
       "   current_kalshi_yes_bid  current_kalshi_yes_ask  current_kalshi_mid_price  \\\n",
       "0                    0.44                     0.5                      0.47   \n",
       "1                    0.44                     0.5                      0.47   \n",
       "2                    0.44                     0.5                      0.47   \n",
       "3                    0.44                     0.5                      0.47   \n",
       "4                    0.44                     0.5                      0.47   \n",
       "\n",
       "   current_kalshi_spread_abs  current_kalshi_spread_pct  \\\n",
       "0                       0.06                    0.12766   \n",
       "1                       0.06                    0.12766   \n",
       "2                       0.06                    0.12766   \n",
       "3                       0.06                    0.12766   \n",
       "4                       0.06                    0.12766   \n",
       "\n",
       "   current_kalshi_volume  current_kalshi_oi  \n",
       "0                    NaN                NaN  \n",
       "1                    NaN                NaN  \n",
       "2                    NaN                NaN  \n",
       "3                    NaN                NaN  \n",
       "4                    NaN                NaN  \n",
       "\n",
       "[5 rows x 25 columns]"
      ]
     },
     "metadata": {},
     "output_type": "display_data"
    },
    {
     "name": "stdout",
     "output_type": "stream",
     "text": [
      "2025-05-23 02:07:15,708 - WARNING - live_backtest_notebook - NaNs found in model input columns of loaded live features data:\n",
      "current_btc_price              980\n",
      "current_dist_strike_abs        980\n",
      "current_dist_strike_pct        980\n",
      "btc_price_change_pct_1m       1845\n",
      "btc_price_change_pct_3m       3627\n",
      "btc_price_change_pct_5m       5778\n",
      "btc_price_change_pct_10m     11004\n",
      "btc_price_change_pct_15m     16186\n",
      "btc_price_change_pct_30m     31338\n",
      "btc_volatility_5m             1845\n",
      "btc_volatility_15m            1845\n",
      "btc_volatility_30m            1845\n",
      "current_kalshi_yes_bid         922\n",
      "current_kalshi_mid_price       922\n",
      "current_kalshi_spread_abs      922\n",
      "current_kalshi_spread_pct      922\n",
      "dtype: int64\n"
     ]
    },
    {
     "name": "stderr",
     "output_type": "stream",
     "text": [
      "2025-05-23 02:07:15,708 - WARNING - live_backtest_notebook - NaNs found in model input columns of loaded live features data:\n",
      "current_btc_price              980\n",
      "current_dist_strike_abs        980\n",
      "current_dist_strike_pct        980\n",
      "btc_price_change_pct_1m       1845\n",
      "btc_price_change_pct_3m       3627\n",
      "btc_price_change_pct_5m       5778\n",
      "btc_price_change_pct_10m     11004\n",
      "btc_price_change_pct_15m     16186\n",
      "btc_price_change_pct_30m     31338\n",
      "btc_volatility_5m             1845\n",
      "btc_volatility_15m            1845\n",
      "btc_volatility_30m            1845\n",
      "current_kalshi_yes_bid         922\n",
      "current_kalshi_mid_price       922\n",
      "current_kalshi_spread_abs      922\n",
      "current_kalshi_spread_pct      922\n",
      "dtype: int64\n"
     ]
    },
    {
     "name": "stdout",
     "output_type": "stream",
     "text": [
      "2025-05-23 02:07:15,709 - WARNING - live_backtest_notebook - The backtest engine might skip these rows or impute. Ensure feature engineering handles NaNs appropriately.\n"
     ]
    },
    {
     "name": "stderr",
     "output_type": "stream",
     "text": [
      "2025-05-23 02:07:15,709 - WARNING - live_backtest_notebook - The backtest engine might skip these rows or impute. Ensure feature engineering handles NaNs appropriately.\n"
     ]
    }
   ],
   "source": [
    "# Cell 3: Load Model and Live Features Data\n",
    "\n",
    "try:\n",
    "    notebook_logger.info(\"Loading pre-trained model, scaler, and feature names...\")\n",
    "    model, scaler, model_feature_names = live_utils.load_model_and_dependencies()\n",
    "    notebook_logger.info(\"Model components loaded successfully.\")\n",
    "\n",
    "    notebook_logger.info(\"Loading features engineered from LIVE data...\")\n",
    "    all_live_features_df = live_utils.load_live_features_for_backtest()\n",
    "    notebook_logger.info(f\"Live features data loaded successfully with {len(all_live_features_df)} decision points.\")\n",
    "    \n",
    "    if all_live_features_df.empty:\n",
    "        notebook_logger.critical(\"Live Features DataFrame is empty. Aborting backtest.\")\n",
    "        # Consider using 'raise SystemExit(\"Live Features DataFrame empty.\")' to halt execution\n",
    "    else:\n",
    "        # Quick check of loaded live features\n",
    "        print(\"Head of loaded live features DataFrame:\")\n",
    "        display(all_live_features_df.head())\n",
    "        \n",
    "        # Check for NaNs in the columns the model will use\n",
    "        if model_feature_names: # Ensure model_feature_names is loaded\n",
    "            nan_check_model_cols = all_live_features_df[model_feature_names].isnull().sum()\n",
    "            if nan_check_model_cols.sum() > 0:\n",
    "                notebook_logger.warning(f\"NaNs found in model input columns of loaded live features data:\\n{nan_check_model_cols[nan_check_model_cols > 0]}\")\n",
    "                notebook_logger.warning(\"The backtest engine might skip these rows or impute. Ensure feature engineering handles NaNs appropriately.\")\n",
    "            else:\n",
    "                notebook_logger.info(\"No NaNs found in model input columns of loaded live features data.\")\n",
    "        else:\n",
    "            notebook_logger.warning(\"model_feature_names not loaded, skipping NaN check for model columns.\")\n",
    "\n",
    "\n",
    "except FileNotFoundError:\n",
    "    notebook_logger.critical(\"Essential file not found (model, scaler, features, or live data features). Aborting backtest.\")\n",
    "    # raise # Uncomment to stop execution if files are missing\n",
    "except Exception as e:\n",
    "    notebook_logger.critical(f\"An unexpected error occurred during loading: {e}\", exc_info=True)\n",
    "    # raise"
   ]
  },
  {
   "cell_type": "code",
   "execution_count": 3,
   "metadata": {},
   "outputs": [
    {
     "name": "stdout",
     "output_type": "stream",
     "text": [
      "2025-05-23 02:07:27,216 - INFO - live_backtest_notebook - Proceeding to run the backtest engine with LIVE data features...\n"
     ]
    },
    {
     "name": "stderr",
     "output_type": "stream",
     "text": [
      "2025-05-23 02:07:27,216 - INFO - live_backtest_notebook - Proceeding to run the backtest engine with LIVE data features...\n",
      "2025-05-23 02:07:27,218 - INFO - live_backtest_engine_logger - Starting LIVE backtest engine...\n",
      "2025-05-23 02:07:27,225 - INFO - live_backtest_engine_logger - Processing 38716 decision points from live data.\n",
      "2025-05-23 02:07:32,011 - INFO - live_backtest_engine_logger - \n",
      "--- DETAILED TRADE DEBUG (BUY_NO) ---\n",
      "2025-05-23 02:07:32,011 - INFO - live_backtest_engine_logger - Market Ticker: KXBTCD-25MAY2015-T106249.99, Decision Timestamp: 1747765921 (2025-05-20T18:32:01+00:00)\n",
      "2025-05-23 02:07:32,011 - INFO - live_backtest_engine_logger - Raw Features Used (19):\n",
      "strike_price                   106249.99\n",
      "time_to_resolution_minutes         27.98\n",
      "current_btc_price              105772.73\n",
      "current_dist_strike_abs          -477.26\n",
      "current_dist_strike_pct        -0.004492\n",
      "btc_price_change_pct_1m         0.000215\n",
      "btc_price_change_pct_3m        -0.000221\n",
      "btc_price_change_pct_5m        -0.002322\n",
      "btc_price_change_pct_10m       -0.001903\n",
      "btc_price_change_pct_15m       -0.003545\n",
      "btc_price_change_pct_30m       -0.003426\n",
      "btc_volatility_5m              77.058146\n",
      "btc_volatility_15m            160.642125\n",
      "btc_volatility_30m            210.430676\n",
      "current_kalshi_yes_bid              0.11\n",
      "current_kalshi_yes_ask              0.14\n",
      "current_kalshi_mid_price           0.125\n",
      "current_kalshi_spread_abs           0.03\n",
      "current_kalshi_spread_pct           0.24\n",
      "2025-05-23 02:07:32,012 - INFO - live_backtest_engine_logger - Predicted P(Yes): 0.1784, Actual Outcome: 0, P&L: 18\n",
      "2025-05-23 02:07:32,012 - INFO - live_backtest_engine_logger - --- END DETAILED TRADE DEBUG ---\n",
      "\n",
      "2025-05-23 02:07:35,478 - INFO - live_backtest_engine_logger - LIVE Backtest engine finished processing.\n",
      "2025-05-23 02:07:35,479 - INFO - live_backtest_engine_logger - --- LIVE Backtest Summary ---\n",
      "2025-05-23 02:07:35,479 - INFO - live_backtest_engine_logger - Total P&L: 1373.97 USD\n",
      "2025-05-23 02:07:35,479 - INFO - live_backtest_engine_logger - YES Bets: 0 Won, 0 Lost\n",
      "2025-05-23 02:07:35,479 - INFO - live_backtest_engine_logger - NO Bets: 6489 Won, 0 Lost\n",
      "2025-05-23 02:07:35,480 - INFO - live_backtest_engine_logger - Total Trades Made: 6489\n"
     ]
    },
    {
     "name": "stdout",
     "output_type": "stream",
     "text": [
      "2025-05-23 02:07:35,485 - INFO - live_backtest_notebook - --- Main Live Backtest Execution Finished ---\n"
     ]
    },
    {
     "name": "stderr",
     "output_type": "stream",
     "text": [
      "2025-05-23 02:07:35,485 - INFO - live_backtest_notebook - --- Main Live Backtest Execution Finished ---\n"
     ]
    },
    {
     "name": "stdout",
     "output_type": "stream",
     "text": [
      "2025-05-23 02:07:35,485 - INFO - live_backtest_notebook - Overall P&L from live backtest engine: 1373.97 USD\n"
     ]
    },
    {
     "name": "stderr",
     "output_type": "stream",
     "text": [
      "2025-05-23 02:07:35,485 - INFO - live_backtest_notebook - Overall P&L from live backtest engine: 1373.97 USD\n"
     ]
    },
    {
     "name": "stdout",
     "output_type": "stream",
     "text": [
      "2025-05-23 02:07:35,485 - INFO - live_backtest_notebook - Total trades made by engine: 6489\n"
     ]
    },
    {
     "name": "stderr",
     "output_type": "stream",
     "text": [
      "2025-05-23 02:07:35,485 - INFO - live_backtest_notebook - Total trades made by engine: 6489\n"
     ]
    },
    {
     "name": "stdout",
     "output_type": "stream",
     "text": [
      "2025-05-23 02:07:35,486 - INFO - live_backtest_notebook - Daily trade logs for this run are in: /Users/omarabul-hassan/Desktop/projects/kalshi/random/backtest/logs\n"
     ]
    },
    {
     "name": "stderr",
     "output_type": "stream",
     "text": [
      "2025-05-23 02:07:35,486 - INFO - live_backtest_notebook - Daily trade logs for this run are in: /Users/omarabul-hassan/Desktop/projects/kalshi/random/backtest/logs\n"
     ]
    }
   ],
   "source": [
    "# Cell 4: Run the Live Backtest\n",
    "\n",
    "total_pnl_cents = 0\n",
    "total_trades = 0\n",
    "\n",
    "if 'model' in locals() and 'scaler' in locals() and 'model_feature_names' in locals() and \\\n",
    "   'all_live_features_df' in locals() and not all_live_features_df.empty:\n",
    "    notebook_logger.info(\"Proceeding to run the backtest engine with LIVE data features...\")\n",
    "    try:\n",
    "        total_pnl_cents, total_trades = run_live_backtest(\n",
    "            all_live_features_df, \n",
    "            model, \n",
    "            scaler, \n",
    "            model_feature_names\n",
    "        )\n",
    "        \n",
    "        notebook_logger.info(\"--- Main Live Backtest Execution Finished ---\")\n",
    "        notebook_logger.info(f\"Overall P&L from live backtest engine: {total_pnl_cents / 100.0 :.2f} USD\")\n",
    "        notebook_logger.info(f\"Total trades made by engine: {total_trades}\")\n",
    "        notebook_logger.info(f\"Daily trade logs for this run are in: {live_config.LOG_DIR}\")\n",
    "\n",
    "    except Exception as e:\n",
    "        notebook_logger.error(f\"An error occurred during run_live_backtest: {e}\", exc_info=True)\n",
    "else:\n",
    "    notebook_logger.error(\"Model or live features data not loaded, or features DataFrame is empty. Cannot run live backtest.\")"
   ]
  }
 ],
 "metadata": {
  "kernelspec": {
   "display_name": "venv",
   "language": "python",
   "name": "python3"
  },
  "language_info": {
   "codemirror_mode": {
    "name": "ipython",
    "version": 3
   },
   "file_extension": ".py",
   "mimetype": "text/x-python",
   "name": "python",
   "nbconvert_exporter": "python",
   "pygments_lexer": "ipython3",
   "version": "3.13.3"
  }
 },
 "nbformat": 4,
 "nbformat_minor": 2
}
